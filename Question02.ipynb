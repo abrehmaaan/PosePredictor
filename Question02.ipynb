{
 "cells": [
  {
   "cell_type": "code",
   "execution_count": 11,
   "id": "0238833a",
   "metadata": {},
   "outputs": [],
   "source": [
    "import pandas as pd\n",
    "import numpy as np\n",
    "from numpy import log,dot,exp,shape\n",
    "import matplotlib.pyplot as plt\n",
    "import copy, math\n",
    "from sklearn.metrics import accuracy_score"
   ]
  },
  {
   "cell_type": "code",
   "execution_count": 12,
   "id": "6ef6e5f1",
   "metadata": {},
   "outputs": [
    {
     "data": {
      "text/html": [
       "<div>\n",
       "<style scoped>\n",
       "    .dataframe tbody tr th:only-of-type {\n",
       "        vertical-align: middle;\n",
       "    }\n",
       "\n",
       "    .dataframe tbody tr th {\n",
       "        vertical-align: top;\n",
       "    }\n",
       "\n",
       "    .dataframe thead th {\n",
       "        text-align: right;\n",
       "    }\n",
       "</style>\n",
       "<table border=\"1\" class=\"dataframe\">\n",
       "  <thead>\n",
       "    <tr style=\"text-align: right;\">\n",
       "      <th></th>\n",
       "      <th>motion_1</th>\n",
       "      <th>motion_2</th>\n",
       "      <th>motion_3</th>\n",
       "      <th>motion_4</th>\n",
       "      <th>motion_5</th>\n",
       "      <th>motion_6</th>\n",
       "      <th>pose</th>\n",
       "    </tr>\n",
       "  </thead>\n",
       "  <tbody>\n",
       "    <tr>\n",
       "      <th>0</th>\n",
       "      <td>0.380623</td>\n",
       "      <td>0.422222</td>\n",
       "      <td>0.520505</td>\n",
       "      <td>0.391463</td>\n",
       "      <td>0.555705</td>\n",
       "      <td>0.546592</td>\n",
       "      <td>0</td>\n",
       "    </tr>\n",
       "    <tr>\n",
       "      <th>1</th>\n",
       "      <td>0.531719</td>\n",
       "      <td>0.397661</td>\n",
       "      <td>0.499474</td>\n",
       "      <td>0.448780</td>\n",
       "      <td>0.445638</td>\n",
       "      <td>0.400556</td>\n",
       "      <td>0</td>\n",
       "    </tr>\n",
       "    <tr>\n",
       "      <th>2</th>\n",
       "      <td>0.453287</td>\n",
       "      <td>0.380117</td>\n",
       "      <td>0.545741</td>\n",
       "      <td>0.446341</td>\n",
       "      <td>0.500671</td>\n",
       "      <td>0.347705</td>\n",
       "      <td>1</td>\n",
       "    </tr>\n",
       "    <tr>\n",
       "      <th>3</th>\n",
       "      <td>0.402537</td>\n",
       "      <td>0.425731</td>\n",
       "      <td>0.372240</td>\n",
       "      <td>0.478049</td>\n",
       "      <td>0.616107</td>\n",
       "      <td>0.534075</td>\n",
       "      <td>0</td>\n",
       "    </tr>\n",
       "    <tr>\n",
       "      <th>4</th>\n",
       "      <td>0.388697</td>\n",
       "      <td>0.191813</td>\n",
       "      <td>0.332282</td>\n",
       "      <td>0.245122</td>\n",
       "      <td>0.373154</td>\n",
       "      <td>0.221140</td>\n",
       "      <td>0</td>\n",
       "    </tr>\n",
       "    <tr>\n",
       "      <th>...</th>\n",
       "      <td>...</td>\n",
       "      <td>...</td>\n",
       "      <td>...</td>\n",
       "      <td>...</td>\n",
       "      <td>...</td>\n",
       "      <td>...</td>\n",
       "      <td>...</td>\n",
       "    </tr>\n",
       "    <tr>\n",
       "      <th>4645</th>\n",
       "      <td>0.442907</td>\n",
       "      <td>0.431579</td>\n",
       "      <td>0.537329</td>\n",
       "      <td>0.484146</td>\n",
       "      <td>0.571812</td>\n",
       "      <td>0.183588</td>\n",
       "      <td>1</td>\n",
       "    </tr>\n",
       "    <tr>\n",
       "      <th>4646</th>\n",
       "      <td>0.350634</td>\n",
       "      <td>0.447953</td>\n",
       "      <td>0.543638</td>\n",
       "      <td>0.534146</td>\n",
       "      <td>0.416107</td>\n",
       "      <td>0.550765</td>\n",
       "      <td>0</td>\n",
       "    </tr>\n",
       "    <tr>\n",
       "      <th>4647</th>\n",
       "      <td>0.522491</td>\n",
       "      <td>0.447953</td>\n",
       "      <td>0.595163</td>\n",
       "      <td>0.408537</td>\n",
       "      <td>0.445638</td>\n",
       "      <td>0.485396</td>\n",
       "      <td>1</td>\n",
       "    </tr>\n",
       "    <tr>\n",
       "      <th>4648</th>\n",
       "      <td>0.534025</td>\n",
       "      <td>0.417544</td>\n",
       "      <td>0.465825</td>\n",
       "      <td>0.429268</td>\n",
       "      <td>0.421477</td>\n",
       "      <td>0.502086</td>\n",
       "      <td>1</td>\n",
       "    </tr>\n",
       "    <tr>\n",
       "      <th>4649</th>\n",
       "      <td>0.419839</td>\n",
       "      <td>0.357895</td>\n",
       "      <td>0.597266</td>\n",
       "      <td>0.520732</td>\n",
       "      <td>0.314094</td>\n",
       "      <td>0.386648</td>\n",
       "      <td>0</td>\n",
       "    </tr>\n",
       "  </tbody>\n",
       "</table>\n",
       "<p>4650 rows × 7 columns</p>\n",
       "</div>"
      ],
      "text/plain": [
       "      motion_1  motion_2  motion_3  motion_4  motion_5  motion_6  pose\n",
       "0     0.380623  0.422222  0.520505  0.391463  0.555705  0.546592     0\n",
       "1     0.531719  0.397661  0.499474  0.448780  0.445638  0.400556     0\n",
       "2     0.453287  0.380117  0.545741  0.446341  0.500671  0.347705     1\n",
       "3     0.402537  0.425731  0.372240  0.478049  0.616107  0.534075     0\n",
       "4     0.388697  0.191813  0.332282  0.245122  0.373154  0.221140     0\n",
       "...        ...       ...       ...       ...       ...       ...   ...\n",
       "4645  0.442907  0.431579  0.537329  0.484146  0.571812  0.183588     1\n",
       "4646  0.350634  0.447953  0.543638  0.534146  0.416107  0.550765     0\n",
       "4647  0.522491  0.447953  0.595163  0.408537  0.445638  0.485396     1\n",
       "4648  0.534025  0.417544  0.465825  0.429268  0.421477  0.502086     1\n",
       "4649  0.419839  0.357895  0.597266  0.520732  0.314094  0.386648     0\n",
       "\n",
       "[4650 rows x 7 columns]"
      ]
     },
     "execution_count": 12,
     "metadata": {},
     "output_type": "execute_result"
    }
   ],
   "source": [
    "df = pd.read_csv('motion.csv')\n",
    "df"
   ]
  },
  {
   "cell_type": "code",
   "execution_count": 13,
   "id": "4183f58b",
   "metadata": {},
   "outputs": [],
   "source": [
    "x = df.drop(['pose'], axis=1).values\n",
    "y = df['pose'].values"
   ]
  },
  {
   "cell_type": "code",
   "execution_count": 14,
   "id": "bc148d82",
   "metadata": {},
   "outputs": [],
   "source": [
    "def sigmoid(z):\n",
    "    return 1/(1+np.exp(-z))"
   ]
  },
  {
   "cell_type": "code",
   "execution_count": 15,
   "id": "e8d43e42",
   "metadata": {},
   "outputs": [],
   "source": [
    "def compute_loss(x, y, v, w):\n",
    "    d = x.shape[0]\n",
    "    k = len(v)\n",
    "    loss = 0\n",
    "    for i in range(d):\n",
    "        hi = []\n",
    "        for j in range(k):\n",
    "            hi.append(sigmoid(np.dot(v[j],x[i])))\n",
    "        fi = sigmoid(np.dot(w,hi))\n",
    "        loss += (fi-y[i])**2\n",
    "    loss = loss / d\n",
    "    return loss"
   ]
  },
  {
   "cell_type": "code",
   "execution_count": 16,
   "id": "196ea3a7",
   "metadata": {},
   "outputs": [],
   "source": [
    "def compute_w(x, y, v, w, index): \n",
    "    d = x.shape[0]\n",
    "    k = len(v)\n",
    "    dw = 0 \n",
    "    for i in range(d):\n",
    "        hi = 0\n",
    "        for j in range(k):\n",
    "            hi += w[j]*sigmoid(np.dot(v[j],x[i]))\n",
    "        fi = sigmoid(hi)\n",
    "        dw += 2*(fi - y[i])*fi*(1-fi)*sigmoid(np.dot(v[index],x[i])) \n",
    "    dw = dw/d\n",
    "    return dw"
   ]
  },
  {
   "cell_type": "code",
   "execution_count": 17,
   "id": "ce59b20b",
   "metadata": {},
   "outputs": [],
   "source": [
    "def compute_v(x, y, v, w, index): \n",
    "    d = x.shape[0]\n",
    "    k = len(v)\n",
    "    dv = 0 \n",
    "    for i in range(d):\n",
    "        zi = 0\n",
    "        for j in range(k):\n",
    "            zi += w[j]*sigmoid(np.dot(v[j],x[i]))\n",
    "        fi = sigmoid(zi)\n",
    "        dv += 2*(fi - y[i])*fi*(1-fi)*w[index]*sigmoid(np.dot(v[index],x[i]))*(1-sigmoid(np.dot(v[index],x[i])))*x[i] \n",
    "    dv = dv/d\n",
    "    return dv"
   ]
  },
  {
   "cell_type": "code",
   "execution_count": 18,
   "id": "b27c3897",
   "metadata": {},
   "outputs": [],
   "source": [
    "def gradient_descent(x, y, v, w, lr, iters): \n",
    "    loss = []\n",
    "    for i in range(iters):\n",
    "        dw = []\n",
    "        for j in range(len(v)):\n",
    "            dw.append(compute_w(x, y, v, w, j))\n",
    "        for j in range(len(v)):\n",
    "            w[j] = w[j] - lr * dw[j]\n",
    "        dv = []\n",
    "        for j in range(len(v)):\n",
    "            dv.append(compute_v(x, y, v, w, j))\n",
    "        for j in range(len(v)):\n",
    "            v[j] = v[j] - lr * dv[j]   \n",
    "        loss.append(compute_loss(x, y, v, w))\n",
    "    return v, w, loss"
   ]
  },
  {
   "cell_type": "code",
   "execution_count": 19,
   "id": "bc140bbf",
   "metadata": {},
   "outputs": [
    {
     "name": "stdout",
     "output_type": "stream",
     "text": [
      "[-2.32805985e-08 -5.74907743e-08 -7.44679280e-07 -1.22950509e-06\n",
      " -1.20523176e-06 -1.04708745e-06]\n",
      "[-2.32805985e-08 -5.74907743e-08 -7.44679280e-07 -1.22950509e-06\n",
      " -1.20523176e-06 -1.04708745e-06]\n",
      "[-0.0011996 -0.0011996]\n"
     ]
    }
   ],
   "source": [
    "v = []\n",
    "v.append(np.zeros_like(x[0]))\n",
    "v.append(np.zeros_like(x[0]))\n",
    "w = np.zeros(2)\n",
    "v, w, l1 = gradient_descent(x, y, v, w, 0.01, 1000) \n",
    "print(v[0])\n",
    "print(v[1])\n",
    "print(w)"
   ]
  },
  {
   "cell_type": "code",
   "execution_count": 21,
   "id": "afebb86c",
   "metadata": {},
   "outputs": [
    {
     "name": "stdout",
     "output_type": "stream",
     "text": [
      "[0.44779755 0.53158452 0.50790246 0.94479688 0.41146092 0.48703344]\n",
      "[0.32934763 0.23544278 0.83442108 0.14601462 0.17884622 0.02308704]\n",
      "[ 0.318049   -0.15848847]\n"
     ]
    }
   ],
   "source": [
    "v = []\n",
    "v.append(np.random.rand(x[0].shape[0]))\n",
    "v.append(np.random.rand(x[0].shape[0]))\n",
    "w = np.random.rand(2)\n",
    "v, w, l2 = gradient_descent(x, y, v, w, 0.01, 1000) \n",
    "print(v[0])\n",
    "print(v[1])\n",
    "print(w)"
   ]
  },
  {
   "cell_type": "code",
   "execution_count": 22,
   "id": "e8e09e9d",
   "metadata": {},
   "outputs": [],
   "source": [
    "iterations = np.arange(1000)"
   ]
  },
  {
   "cell_type": "code",
   "execution_count": 23,
   "id": "2f0d69fe",
   "metadata": {},
   "outputs": [
    {
     "data": {
      "image/png": "[encoded data removed]",
      "text/plain": [
       "<Figure size 432x288 with 1 Axes>"
      ]
     },
     "metadata": {
      "needs_background": "light"
     },
     "output_type": "display_data"
    }
   ],
   "source": [
    "plt.plot(iterations, l1)\n",
    "plt.plot(iterations, l2)\n",
    "plt.legend(['zero','rand'],title='Initialization')\n",
    "plt.xlabel('Iterations')\n",
    "plt.ylabel('Loss')\n",
    "plt.show()"
   ]
  },
  {
   "cell_type": "code",
   "execution_count": 30,
   "id": "0639482b",
   "metadata": {},
   "outputs": [
    {
     "name": "stdout",
     "output_type": "stream",
     "text": [
      "[0.29678535 0.49545851 0.40443131 0.48314283 0.59019665 0.24092498]\n",
      "[0.67072584 0.96576915 0.73687151 0.20604477 0.14924962 0.60685371]\n",
      "[ 0.03971084 -0.0362402 ]\n"
     ]
    }
   ],
   "source": [
    "v = []\n",
    "v.append(np.random.rand(x[0].shape[0]))\n",
    "v.append(np.random.rand(x[0].shape[0]))\n",
    "w = np.random.rand(2)\n",
    "v_n, w_n, l1 = gradient_descent(x, y, v, w, 0.1, 1000) \n",
    "print(v_n[0])\n",
    "print(v_n[1])\n",
    "print(w_n)"
   ]
  },
  {
   "cell_type": "code",
   "execution_count": 31,
   "id": "21f6b3a6",
   "metadata": {},
   "outputs": [
    {
     "name": "stdout",
     "output_type": "stream",
     "text": [
      "[0.29670265 0.4954128  0.40444953 0.48333427 0.59043973 0.24107026]\n",
      "[0.67078283 0.96576477 0.73683741 0.20598831 0.149165   0.60668325]\n",
      "[ 0.04067423 -0.037131  ]\n"
     ]
    }
   ],
   "source": [
    "v_n, w_n, l2 = gradient_descent(x, y, v, w, 0.05, 1000) \n",
    "print(v_n[0])\n",
    "print(v_n[1])\n",
    "print(w_n)"
   ]
  },
  {
   "cell_type": "code",
   "execution_count": 32,
   "id": "fbb9f621",
   "metadata": {},
   "outputs": [
    {
     "name": "stdout",
     "output_type": "stream",
     "text": [
      "[0.29668587 0.49540352 0.40445322 0.4833731  0.59048903 0.24109973]\n",
      "[0.6707944  0.96576388 0.73683048 0.20597686 0.14914782 0.60664866]\n",
      "[ 0.04086713 -0.03730939]\n"
     ]
    }
   ],
   "source": [
    "v_n, w_n, l3 = gradient_descent(x, y, v, w, 0.01, 1000) \n",
    "print(v_n[0])\n",
    "print(v_n[1])\n",
    "print(w_n)"
   ]
  },
  {
   "cell_type": "code",
   "execution_count": 33,
   "id": "ec469337",
   "metadata": {},
   "outputs": [
    {
     "name": "stdout",
     "output_type": "stream",
     "text": [
      "[0.29667745 0.49539886 0.40445507 0.48339259 0.59051377 0.24111452]\n",
      "[0.6708002  0.96576343 0.73682701 0.20597111 0.14913921 0.60663131]\n",
      "[ 0.04096361 -0.0373986 ]\n"
     ]
    }
   ],
   "source": [
    "v_n, w_n, l4 = gradient_descent(x, y, v, w, 0.005, 1000) \n",
    "print(v_n[0])\n",
    "print(v_n[1])\n",
    "print(w_n)"
   ]
  },
  {
   "cell_type": "code",
   "execution_count": 34,
   "id": "4f855766",
   "metadata": {},
   "outputs": [
    {
     "name": "stdout",
     "output_type": "stream",
     "text": [
      "[0.29667576 0.49539793 0.40445544 0.48339649 0.59051873 0.24111748]\n",
      "[0.67080136 0.96576334 0.73682631 0.20596995 0.14913748 0.60662783]\n",
      "[ 0.0409829  -0.03741645]\n"
     ]
    }
   ],
   "source": [
    "v_n, w_n, l5 = gradient_descent(x, y, v, w, 0.001, 1000) \n",
    "print(v_n[0])\n",
    "print(v_n[1])\n",
    "print(w_n)"
   ]
  },
  {
   "cell_type": "code",
   "execution_count": 35,
   "id": "6c62e4d7",
   "metadata": {},
   "outputs": [
    {
     "data": {
      "image/png": "[encoded data removed]",
      "text/plain": [
       "<Figure size 432x288 with 1 Axes>"
      ]
     },
     "metadata": {
      "needs_background": "light"
     },
     "output_type": "display_data"
    }
   ],
   "source": [
    "plt.plot(iterations, l1)\n",
    "plt.plot(iterations, l2)\n",
    "plt.plot(iterations, l3)\n",
    "plt.plot(iterations, l4)\n",
    "plt.plot(iterations, l5)\n",
    "plt.legend(['0.1','0.05','0.01','0.005','0.001'],title='Learning Rate')\n",
    "plt.xlabel('Iterations')\n",
    "plt.ylabel('Loss')\n",
    "plt.show()"
   ]
  },
  {
   "cell_type": "code",
   "execution_count": 36,
   "id": "76fbee36",
   "metadata": {},
   "outputs": [],
   "source": [
    "from sklearn.model_selection import train_test_split"
   ]
  },
  {
   "cell_type": "code",
   "execution_count": 37,
   "id": "a6816bc0",
   "metadata": {},
   "outputs": [],
   "source": [
    "x_train, x_test, y_train, y_test = train_test_split(x, y, test_size=0.3, random_state=101)"
   ]
  },
  {
   "cell_type": "code",
   "execution_count": 38,
   "id": "6f34f13a",
   "metadata": {},
   "outputs": [
    {
     "name": "stdout",
     "output_type": "stream",
     "text": [
      "[0.29652825 0.49617614 0.4032995  0.48381152 0.59314701 0.24195949]\n",
      "[0.67074719 0.9656993  0.73678212 0.20592329 0.14904991 0.60656029]\n",
      "[ 0.08447526 -0.0016232 ]\n"
     ]
    }
   ],
   "source": [
    "v_n, w_n, l1 = gradient_descent(x_test, y_test, v, w, 0.1, 1000) \n",
    "print(v_n[0])\n",
    "print(v_n[1])\n",
    "print(w_n)"
   ]
  },
  {
   "cell_type": "code",
   "execution_count": 42,
   "id": "5fd1236a",
   "metadata": {},
   "outputs": [],
   "source": [
    "def pred(x):\n",
    "    v = [np.array([0.29652825, 0.49617614, 0.4032995,  0.48381152, 0.59314701, 0.24195949]),np.array([0.67074719, 0.9656993,  0.73678212, 0.20592329, 0.14904991, 0.60656029])]\n",
    "    w = np.array([ 0.08447526, -0.0016232 ])\n",
    "    k = 2\n",
    "    preds = []\n",
    "    for i in range(len(x)):\n",
    "        hi = []\n",
    "        for j in range(k):\n",
    "            hi.append(sigmoid(np.dot(v[j],x[i])))\n",
    "        fi = sigmoid(np.dot(w,hi))\n",
    "        if (fi>=0.5):\n",
    "            preds.append(1)\n",
    "        else:\n",
    "            preds.append(0)\n",
    "    return preds"
   ]
  },
  {
   "cell_type": "code",
   "execution_count": 43,
   "id": "5a611c4b",
   "metadata": {},
   "outputs": [],
   "source": [
    "y_preds = np.array(pred(x_test))"
   ]
  },
  {
   "cell_type": "code",
   "execution_count": 44,
   "id": "d728c986",
   "metadata": {},
   "outputs": [
    {
     "data": {
      "text/plain": [
       "0.5146953405017921"
      ]
     },
     "execution_count": 44,
     "metadata": {},
     "output_type": "execute_result"
    }
   ],
   "source": [
    "accuracy_score(y_test, y_preds)"
   ]
  },
  {
   "cell_type": "code",
   "execution_count": null,
   "id": "6599c1ea",
   "metadata": {},
   "outputs": [],
   "source": []
  }
 ],
 "metadata": {
  "kernelspec": {
   "display_name": "Python 3 (ipykernel)",
   "language": "python",
   "name": "python3"
  },
  "language_info": {
   "codemirror_mode": {
    "name": "ipython",
    "version": 3
   },
   "file_extension": ".py",
   "mimetype": "text/x-python",
   "name": "python",
   "nbconvert_exporter": "python",
   "pygments_lexer": "ipython3",
   "version": "3.9.12"
  }
 },
 "nbformat": 4,
 "nbformat_minor": 5
}
