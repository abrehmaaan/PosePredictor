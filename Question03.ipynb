{
 "cells": [
  {
   "cell_type": "code",
   "execution_count": 1,
   "id": "0238833a",
   "metadata": {},
   "outputs": [],
   "source": [
    "import pandas as pd\n",
    "import numpy as np\n",
    "import math\n",
    "from sklearn.metrics import accuracy_score"
   ]
  },
  {
   "cell_type": "code",
   "execution_count": 2,
   "id": "6ef6e5f1",
   "metadata": {},
   "outputs": [
    {
     "data": {
      "text/html": [
       "<div>\n",
       "<style scoped>\n",
       "    .dataframe tbody tr th:only-of-type {\n",
       "        vertical-align: middle;\n",
       "    }\n",
       "\n",
       "    .dataframe tbody tr th {\n",
       "        vertical-align: top;\n",
       "    }\n",
       "\n",
       "    .dataframe thead th {\n",
       "        text-align: right;\n",
       "    }\n",
       "</style>\n",
       "<table border=\"1\" class=\"dataframe\">\n",
       "  <thead>\n",
       "    <tr style=\"text-align: right;\">\n",
       "      <th></th>\n",
       "      <th>motion_1</th>\n",
       "      <th>motion_2</th>\n",
       "      <th>motion_3</th>\n",
       "      <th>motion_4</th>\n",
       "      <th>motion_5</th>\n",
       "      <th>motion_6</th>\n",
       "      <th>pose</th>\n",
       "    </tr>\n",
       "  </thead>\n",
       "  <tbody>\n",
       "    <tr>\n",
       "      <th>0</th>\n",
       "      <td>0.380623</td>\n",
       "      <td>0.422222</td>\n",
       "      <td>0.520505</td>\n",
       "      <td>0.391463</td>\n",
       "      <td>0.555705</td>\n",
       "      <td>0.546592</td>\n",
       "      <td>0</td>\n",
       "    </tr>\n",
       "    <tr>\n",
       "      <th>1</th>\n",
       "      <td>0.531719</td>\n",
       "      <td>0.397661</td>\n",
       "      <td>0.499474</td>\n",
       "      <td>0.448780</td>\n",
       "      <td>0.445638</td>\n",
       "      <td>0.400556</td>\n",
       "      <td>0</td>\n",
       "    </tr>\n",
       "    <tr>\n",
       "      <th>2</th>\n",
       "      <td>0.453287</td>\n",
       "      <td>0.380117</td>\n",
       "      <td>0.545741</td>\n",
       "      <td>0.446341</td>\n",
       "      <td>0.500671</td>\n",
       "      <td>0.347705</td>\n",
       "      <td>1</td>\n",
       "    </tr>\n",
       "    <tr>\n",
       "      <th>3</th>\n",
       "      <td>0.402537</td>\n",
       "      <td>0.425731</td>\n",
       "      <td>0.372240</td>\n",
       "      <td>0.478049</td>\n",
       "      <td>0.616107</td>\n",
       "      <td>0.534075</td>\n",
       "      <td>0</td>\n",
       "    </tr>\n",
       "    <tr>\n",
       "      <th>4</th>\n",
       "      <td>0.388697</td>\n",
       "      <td>0.191813</td>\n",
       "      <td>0.332282</td>\n",
       "      <td>0.245122</td>\n",
       "      <td>0.373154</td>\n",
       "      <td>0.221140</td>\n",
       "      <td>0</td>\n",
       "    </tr>\n",
       "    <tr>\n",
       "      <th>...</th>\n",
       "      <td>...</td>\n",
       "      <td>...</td>\n",
       "      <td>...</td>\n",
       "      <td>...</td>\n",
       "      <td>...</td>\n",
       "      <td>...</td>\n",
       "      <td>...</td>\n",
       "    </tr>\n",
       "    <tr>\n",
       "      <th>4645</th>\n",
       "      <td>0.442907</td>\n",
       "      <td>0.431579</td>\n",
       "      <td>0.537329</td>\n",
       "      <td>0.484146</td>\n",
       "      <td>0.571812</td>\n",
       "      <td>0.183588</td>\n",
       "      <td>1</td>\n",
       "    </tr>\n",
       "    <tr>\n",
       "      <th>4646</th>\n",
       "      <td>0.350634</td>\n",
       "      <td>0.447953</td>\n",
       "      <td>0.543638</td>\n",
       "      <td>0.534146</td>\n",
       "      <td>0.416107</td>\n",
       "      <td>0.550765</td>\n",
       "      <td>0</td>\n",
       "    </tr>\n",
       "    <tr>\n",
       "      <th>4647</th>\n",
       "      <td>0.522491</td>\n",
       "      <td>0.447953</td>\n",
       "      <td>0.595163</td>\n",
       "      <td>0.408537</td>\n",
       "      <td>0.445638</td>\n",
       "      <td>0.485396</td>\n",
       "      <td>1</td>\n",
       "    </tr>\n",
       "    <tr>\n",
       "      <th>4648</th>\n",
       "      <td>0.534025</td>\n",
       "      <td>0.417544</td>\n",
       "      <td>0.465825</td>\n",
       "      <td>0.429268</td>\n",
       "      <td>0.421477</td>\n",
       "      <td>0.502086</td>\n",
       "      <td>1</td>\n",
       "    </tr>\n",
       "    <tr>\n",
       "      <th>4649</th>\n",
       "      <td>0.419839</td>\n",
       "      <td>0.357895</td>\n",
       "      <td>0.597266</td>\n",
       "      <td>0.520732</td>\n",
       "      <td>0.314094</td>\n",
       "      <td>0.386648</td>\n",
       "      <td>0</td>\n",
       "    </tr>\n",
       "  </tbody>\n",
       "</table>\n",
       "<p>4650 rows × 7 columns</p>\n",
       "</div>"
      ],
      "text/plain": [
       "      motion_1  motion_2  motion_3  motion_4  motion_5  motion_6  pose\n",
       "0     0.380623  0.422222  0.520505  0.391463  0.555705  0.546592     0\n",
       "1     0.531719  0.397661  0.499474  0.448780  0.445638  0.400556     0\n",
       "2     0.453287  0.380117  0.545741  0.446341  0.500671  0.347705     1\n",
       "3     0.402537  0.425731  0.372240  0.478049  0.616107  0.534075     0\n",
       "4     0.388697  0.191813  0.332282  0.245122  0.373154  0.221140     0\n",
       "...        ...       ...       ...       ...       ...       ...   ...\n",
       "4645  0.442907  0.431579  0.537329  0.484146  0.571812  0.183588     1\n",
       "4646  0.350634  0.447953  0.543638  0.534146  0.416107  0.550765     0\n",
       "4647  0.522491  0.447953  0.595163  0.408537  0.445638  0.485396     1\n",
       "4648  0.534025  0.417544  0.465825  0.429268  0.421477  0.502086     1\n",
       "4649  0.419839  0.357895  0.597266  0.520732  0.314094  0.386648     0\n",
       "\n",
       "[4650 rows x 7 columns]"
      ]
     },
     "execution_count": 2,
     "metadata": {},
     "output_type": "execute_result"
    }
   ],
   "source": [
    "df = pd.read_csv('motion.csv')\n",
    "df"
   ]
  },
  {
   "cell_type": "code",
   "execution_count": 3,
   "id": "4183f58b",
   "metadata": {},
   "outputs": [],
   "source": [
    "x = df.drop(['pose'], axis=1).values\n",
    "y = df['pose'].values"
   ]
  },
  {
   "cell_type": "code",
   "execution_count": 4,
   "id": "76fbee36",
   "metadata": {},
   "outputs": [],
   "source": [
    "from sklearn.model_selection import train_test_split"
   ]
  },
  {
   "cell_type": "code",
   "execution_count": 5,
   "id": "a6816bc0",
   "metadata": {},
   "outputs": [],
   "source": [
    "x_train, x_test, y_train, y_test = train_test_split(x, y, test_size=0.2, random_state=42)"
   ]
  },
  {
   "cell_type": "code",
   "execution_count": 6,
   "id": "8a03d50b",
   "metadata": {},
   "outputs": [],
   "source": [
    "def L1Norm(x1, x2):\n",
    "    sum = 0\n",
    "    for i in range(len(x1)):\n",
    "        sum += abs(x1[i]-x2[i])\n",
    "    return sum"
   ]
  },
  {
   "cell_type": "code",
   "execution_count": 7,
   "id": "7c5803f6",
   "metadata": {},
   "outputs": [],
   "source": [
    "def L2Norm(x1, x2):\n",
    "    sum = 0\n",
    "    for i in range(len(x1)):\n",
    "        sum += (x1[i]-x2[i])**2\n",
    "    return math.sqrt(sum)"
   ]
  },
  {
   "cell_type": "code",
   "execution_count": 8,
   "id": "761096fd",
   "metadata": {},
   "outputs": [],
   "source": [
    "def LINorm(x1, x2):\n",
    "    maxs = []\n",
    "    for i in range(len(x1)):\n",
    "        maxs.append(abs(x1[i]-x2[i]))\n",
    "    return max(maxs)"
   ]
  },
  {
   "cell_type": "code",
   "execution_count": 9,
   "id": "e7ecaca6",
   "metadata": {},
   "outputs": [],
   "source": [
    "def findMins(arr, n):\n",
    "    mins = sorted(arr, reverse = False)[:n]\n",
    "    return mins"
   ]
  },
  {
   "cell_type": "code",
   "execution_count": 10,
   "id": "2a5e3a66",
   "metadata": {},
   "outputs": [],
   "source": [
    "def mostOccurs(arr):\n",
    "    mc = max(set(arr), key = arr.count)\n",
    "    return mc"
   ]
  },
  {
   "cell_type": "code",
   "execution_count": 11,
   "id": "c7223975",
   "metadata": {},
   "outputs": [],
   "source": [
    "def predict(x, k):\n",
    "    preds = []\n",
    "    for x1 in x:\n",
    "        dandL = {}\n",
    "        for i in range(len(x_train)):\n",
    "            x2 = x_train[i] \n",
    "            dandL[L1Norm(x1, x2)] = y_train[i]\n",
    "        mindist = findMins(dandL.keys(), k)\n",
    "        labelsFound = []\n",
    "        for j in range(k):\n",
    "            labelsFound.append(dandL[mindist[j]])\n",
    "        preds.append(mostOccurs(labelsFound))\n",
    "    return preds"
   ]
  },
  {
   "cell_type": "code",
   "execution_count": 13,
   "id": "c0855483",
   "metadata": {},
   "outputs": [
    {
     "data": {
      "text/plain": [
       "0.7247311827956989"
      ]
     },
     "execution_count": 13,
     "metadata": {},
     "output_type": "execute_result"
    }
   ],
   "source": [
    "y_preds = predict(x_test, 5)\n",
    "accuracy_score(y_test, y_preds)"
   ]
  },
  {
   "cell_type": "code",
   "execution_count": 14,
   "id": "207e9419",
   "metadata": {},
   "outputs": [],
   "source": [
    "def predict(x, k):\n",
    "    preds = []\n",
    "    for x1 in x:\n",
    "        dandL = {}\n",
    "        for i in range(len(x_train)):\n",
    "            x2 = x_train[i] \n",
    "            dandL[L2Norm(x1, x2)] = y_train[i]\n",
    "        mindist = findMins(dandL.keys(), k)\n",
    "        labelsFound = []\n",
    "        for j in range(k):\n",
    "            labelsFound.append(dandL[mindist[j]])\n",
    "        preds.append(mostOccurs(labelsFound))\n",
    "    return preds"
   ]
  },
  {
   "cell_type": "code",
   "execution_count": 15,
   "id": "5b4c8a3b",
   "metadata": {},
   "outputs": [
    {
     "data": {
      "text/plain": [
       "0.7193548387096774"
      ]
     },
     "execution_count": 15,
     "metadata": {},
     "output_type": "execute_result"
    }
   ],
   "source": [
    "y_preds = predict(x_test, 5)\n",
    "accuracy_score(y_test, y_preds)"
   ]
  },
  {
   "cell_type": "code",
   "execution_count": 16,
   "id": "9d884679",
   "metadata": {},
   "outputs": [],
   "source": [
    "def predict(x, k):\n",
    "    preds = []\n",
    "    for x1 in x:\n",
    "        dandL = {}\n",
    "        for i in range(len(x_train)):\n",
    "            x2 = x_train[i] \n",
    "            dandL[LINorm(x1, x2)] = y_train[i]\n",
    "        mindist = findMins(dandL.keys(), k)\n",
    "        labelsFound = []\n",
    "        for j in range(k):\n",
    "            labelsFound.append(dandL[mindist[j]])\n",
    "        preds.append(mostOccurs(labelsFound))\n",
    "    return preds"
   ]
  },
  {
   "cell_type": "code",
   "execution_count": 17,
   "id": "c3231a0b",
   "metadata": {},
   "outputs": [
    {
     "data": {
      "text/plain": [
       "0.7333333333333333"
      ]
     },
     "execution_count": 17,
     "metadata": {},
     "output_type": "execute_result"
    }
   ],
   "source": [
    "y_preds = predict(x_test, 5)\n",
    "accuracy_score(y_test, y_preds)"
   ]
  },
  {
   "cell_type": "code",
   "execution_count": null,
   "id": "4fe8ce02",
   "metadata": {},
   "outputs": [],
   "source": []
  }
 ],
 "metadata": {
  "kernelspec": {
   "display_name": "Python 3 (ipykernel)",
   "language": "python",
   "name": "python3"
  },
  "language_info": {
   "codemirror_mode": {
    "name": "ipython",
    "version": 3
   },
   "file_extension": ".py",
   "mimetype": "text/x-python",
   "name": "python",
   "nbconvert_exporter": "python",
   "pygments_lexer": "ipython3",
   "version": "3.9.12"
  }
 },
 "nbformat": 4,
 "nbformat_minor": 5
}
