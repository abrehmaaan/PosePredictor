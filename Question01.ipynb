{
 "cells": [
  {
   "cell_type": "code",
   "execution_count": 1,
   "id": "0238833a",
   "metadata": {},
   "outputs": [],
   "source": [
    "import pandas as pd\n",
    "import numpy as np\n",
    "from numpy import log,dot,exp,shape\n",
    "import matplotlib.pyplot as plt\n",
    "import copy, math\n",
    "from sklearn.metrics import accuracy_score"
   ]
  },
  {
   "cell_type": "code",
   "execution_count": 2,
   "id": "6ef6e5f1",
   "metadata": {},
   "outputs": [
    {
     "data": {
      "text/html": [
       "<div>\n",
       "<style scoped>\n",
       "    .dataframe tbody tr th:only-of-type {\n",
       "        vertical-align: middle;\n",
       "    }\n",
       "\n",
       "    .dataframe tbody tr th {\n",
       "        vertical-align: top;\n",
       "    }\n",
       "\n",
       "    .dataframe thead th {\n",
       "        text-align: right;\n",
       "    }\n",
       "</style>\n",
       "<table border=\"1\" class=\"dataframe\">\n",
       "  <thead>\n",
       "    <tr style=\"text-align: right;\">\n",
       "      <th></th>\n",
       "      <th>motion_1</th>\n",
       "      <th>motion_2</th>\n",
       "      <th>motion_3</th>\n",
       "      <th>motion_4</th>\n",
       "      <th>motion_5</th>\n",
       "      <th>motion_6</th>\n",
       "      <th>pose</th>\n",
       "    </tr>\n",
       "  </thead>\n",
       "  <tbody>\n",
       "    <tr>\n",
       "      <th>0</th>\n",
       "      <td>0.380623</td>\n",
       "      <td>0.422222</td>\n",
       "      <td>0.520505</td>\n",
       "      <td>0.391463</td>\n",
       "      <td>0.555705</td>\n",
       "      <td>0.546592</td>\n",
       "      <td>0</td>\n",
       "    </tr>\n",
       "    <tr>\n",
       "      <th>1</th>\n",
       "      <td>0.531719</td>\n",
       "      <td>0.397661</td>\n",
       "      <td>0.499474</td>\n",
       "      <td>0.448780</td>\n",
       "      <td>0.445638</td>\n",
       "      <td>0.400556</td>\n",
       "      <td>0</td>\n",
       "    </tr>\n",
       "    <tr>\n",
       "      <th>2</th>\n",
       "      <td>0.453287</td>\n",
       "      <td>0.380117</td>\n",
       "      <td>0.545741</td>\n",
       "      <td>0.446341</td>\n",
       "      <td>0.500671</td>\n",
       "      <td>0.347705</td>\n",
       "      <td>1</td>\n",
       "    </tr>\n",
       "    <tr>\n",
       "      <th>3</th>\n",
       "      <td>0.402537</td>\n",
       "      <td>0.425731</td>\n",
       "      <td>0.372240</td>\n",
       "      <td>0.478049</td>\n",
       "      <td>0.616107</td>\n",
       "      <td>0.534075</td>\n",
       "      <td>0</td>\n",
       "    </tr>\n",
       "    <tr>\n",
       "      <th>4</th>\n",
       "      <td>0.388697</td>\n",
       "      <td>0.191813</td>\n",
       "      <td>0.332282</td>\n",
       "      <td>0.245122</td>\n",
       "      <td>0.373154</td>\n",
       "      <td>0.221140</td>\n",
       "      <td>0</td>\n",
       "    </tr>\n",
       "    <tr>\n",
       "      <th>...</th>\n",
       "      <td>...</td>\n",
       "      <td>...</td>\n",
       "      <td>...</td>\n",
       "      <td>...</td>\n",
       "      <td>...</td>\n",
       "      <td>...</td>\n",
       "      <td>...</td>\n",
       "    </tr>\n",
       "    <tr>\n",
       "      <th>4645</th>\n",
       "      <td>0.442907</td>\n",
       "      <td>0.431579</td>\n",
       "      <td>0.537329</td>\n",
       "      <td>0.484146</td>\n",
       "      <td>0.571812</td>\n",
       "      <td>0.183588</td>\n",
       "      <td>1</td>\n",
       "    </tr>\n",
       "    <tr>\n",
       "      <th>4646</th>\n",
       "      <td>0.350634</td>\n",
       "      <td>0.447953</td>\n",
       "      <td>0.543638</td>\n",
       "      <td>0.534146</td>\n",
       "      <td>0.416107</td>\n",
       "      <td>0.550765</td>\n",
       "      <td>0</td>\n",
       "    </tr>\n",
       "    <tr>\n",
       "      <th>4647</th>\n",
       "      <td>0.522491</td>\n",
       "      <td>0.447953</td>\n",
       "      <td>0.595163</td>\n",
       "      <td>0.408537</td>\n",
       "      <td>0.445638</td>\n",
       "      <td>0.485396</td>\n",
       "      <td>1</td>\n",
       "    </tr>\n",
       "    <tr>\n",
       "      <th>4648</th>\n",
       "      <td>0.534025</td>\n",
       "      <td>0.417544</td>\n",
       "      <td>0.465825</td>\n",
       "      <td>0.429268</td>\n",
       "      <td>0.421477</td>\n",
       "      <td>0.502086</td>\n",
       "      <td>1</td>\n",
       "    </tr>\n",
       "    <tr>\n",
       "      <th>4649</th>\n",
       "      <td>0.419839</td>\n",
       "      <td>0.357895</td>\n",
       "      <td>0.597266</td>\n",
       "      <td>0.520732</td>\n",
       "      <td>0.314094</td>\n",
       "      <td>0.386648</td>\n",
       "      <td>0</td>\n",
       "    </tr>\n",
       "  </tbody>\n",
       "</table>\n",
       "<p>4650 rows × 7 columns</p>\n",
       "</div>"
      ],
      "text/plain": [
       "      motion_1  motion_2  motion_3  motion_4  motion_5  motion_6  pose\n",
       "0     0.380623  0.422222  0.520505  0.391463  0.555705  0.546592     0\n",
       "1     0.531719  0.397661  0.499474  0.448780  0.445638  0.400556     0\n",
       "2     0.453287  0.380117  0.545741  0.446341  0.500671  0.347705     1\n",
       "3     0.402537  0.425731  0.372240  0.478049  0.616107  0.534075     0\n",
       "4     0.388697  0.191813  0.332282  0.245122  0.373154  0.221140     0\n",
       "...        ...       ...       ...       ...       ...       ...   ...\n",
       "4645  0.442907  0.431579  0.537329  0.484146  0.571812  0.183588     1\n",
       "4646  0.350634  0.447953  0.543638  0.534146  0.416107  0.550765     0\n",
       "4647  0.522491  0.447953  0.595163  0.408537  0.445638  0.485396     1\n",
       "4648  0.534025  0.417544  0.465825  0.429268  0.421477  0.502086     1\n",
       "4649  0.419839  0.357895  0.597266  0.520732  0.314094  0.386648     0\n",
       "\n",
       "[4650 rows x 7 columns]"
      ]
     },
     "execution_count": 2,
     "metadata": {},
     "output_type": "execute_result"
    }
   ],
   "source": [
    "df = pd.read_csv('motion.csv')\n",
    "df"
   ]
  },
  {
   "cell_type": "code",
   "execution_count": 3,
   "id": "4183f58b",
   "metadata": {},
   "outputs": [],
   "source": [
    "x = df.drop(['pose'], axis=1).values\n",
    "y = df['pose'].values"
   ]
  },
  {
   "cell_type": "code",
   "execution_count": 4,
   "id": "bc148d82",
   "metadata": {},
   "outputs": [],
   "source": [
    "def sigmoid(z):\n",
    "    return 1/(1+np.exp(-z))"
   ]
  },
  {
   "cell_type": "code",
   "execution_count": 5,
   "id": "196ea3a7",
   "metadata": {},
   "outputs": [],
   "source": [
    "def compute_loss(x, y, w):\n",
    "    d = x.shape[0]\n",
    "    loss = 0\n",
    "    for i in range(d): \n",
    "        loss += (sigmoid(np.dot(x[i],w))-y[i])**2\n",
    "    loss = loss / d\n",
    "    return loss"
   ]
  },
  {
   "cell_type": "code",
   "execution_count": 6,
   "id": "ce59b20b",
   "metadata": {},
   "outputs": [],
   "source": [
    "def compute_gradient(x, y, w):\n",
    "    d = x.shape[0]\n",
    "    dw = 0 \n",
    "    for i in range(d):\n",
    "        dw += 2*(sigmoid(np.dot(x[i],w))-y[i])*sigmoid(np.dot(x[i],w))*(1-sigmoid(np.dot(x[i],w)))*x[i]\n",
    "    dw = dw/d\n",
    "    return dw"
   ]
  },
  {
   "cell_type": "code",
   "execution_count": 7,
   "id": "e2de8ab1",
   "metadata": {},
   "outputs": [],
   "source": [
    "def gradient_descent(x, y, w, lr, iters): \n",
    "    loss = []\n",
    "    for i in range(iters):\n",
    "        dw = compute_gradient(x, y, w)   \n",
    "        w = w - lr * dw               \n",
    "        loss.append(compute_loss(x, y, w))\n",
    "    return w,loss"
   ]
  },
  {
   "cell_type": "code",
   "execution_count": 8,
   "id": "bc140bbf",
   "metadata": {},
   "outputs": [
    {
     "name": "stdout",
     "output_type": "stream",
     "text": [
      "[-0.00232326 -0.00186073  0.00179874  0.00528452  0.0048699   0.00414474]\n"
     ]
    }
   ],
   "source": [
    "w  = np.zeros(len(x[0]))\n",
    "w, l1 = gradient_descent(x, y, w, 0.01, 1000) \n",
    "print(w)"
   ]
  },
  {
   "cell_type": "code",
   "execution_count": 9,
   "id": "afebb86c",
   "metadata": {},
   "outputs": [
    {
     "name": "stdout",
     "output_type": "stream",
     "text": [
      "[ 0.1750207   0.31578443  0.46750486  0.17376839  0.48496962 -0.02660452]\n"
     ]
    }
   ],
   "source": [
    "w  = np.random.rand(len(x[0]))\n",
    "w, l2 = gradient_descent(x, y, w, 0.01, 1000) \n",
    "print(w)"
   ]
  },
  {
   "cell_type": "code",
   "execution_count": 10,
   "id": "e8e09e9d",
   "metadata": {},
   "outputs": [],
   "source": [
    "iterations = np.arange(1000)"
   ]
  },
  {
   "cell_type": "code",
   "execution_count": 11,
   "id": "2f0d69fe",
   "metadata": {},
   "outputs": [
    {
     "data": {
      "image/png": "[encoded data removed]",
      "text/plain": [
       "<Figure size 432x288 with 1 Axes>"
      ]
     },
     "metadata": {
      "needs_background": "light"
     },
     "output_type": "display_data"
    }
   ],
   "source": [
    "plt.plot(iterations, l1)\n",
    "plt.plot(iterations, l2)\n",
    "plt.legend(['zero','rand'],title='Initialization')\n",
    "plt.xlabel('Iterations')\n",
    "plt.ylabel('Loss')\n",
    "plt.show()"
   ]
  },
  {
   "cell_type": "code",
   "execution_count": 12,
   "id": "0639482b",
   "metadata": {},
   "outputs": [
    {
     "name": "stdout",
     "output_type": "stream",
     "text": [
      "[-0.03954079 -0.03334567 -0.0010518   0.03690955  0.03107876  0.02559311]\n"
     ]
    }
   ],
   "source": [
    "w  = np.zeros(len(x[0]))\n",
    "w, l1 = gradient_descent(x, y, w, 0.1, 1000) \n",
    "print(w)"
   ]
  },
  {
   "cell_type": "code",
   "execution_count": 13,
   "id": "21f6b3a6",
   "metadata": {},
   "outputs": [
    {
     "name": "stdout",
     "output_type": "stream",
     "text": [
      "[-0.05962605 -0.05041046 -0.00296249  0.05352919  0.04483229  0.03684745]\n"
     ]
    }
   ],
   "source": [
    "w  = np.zeros(len(x[0]))\n",
    "w, l2 = gradient_descent(x, y, w, 0.05, 1000) \n",
    "print(w)"
   ]
  },
  {
   "cell_type": "code",
   "execution_count": 14,
   "id": "fbb9f621",
   "metadata": {},
   "outputs": [
    {
     "name": "stdout",
     "output_type": "stream",
     "text": [
      "[-0.00232326 -0.00186073  0.00179874  0.00528452  0.0048699   0.00414474]\n"
     ]
    }
   ],
   "source": [
    "w  = np.zeros(len(x[0]))\n",
    "w, l3 = gradient_descent(x, y, w, 0.01, 1000) \n",
    "print(w)"
   ]
  },
  {
   "cell_type": "code",
   "execution_count": 15,
   "id": "ec469337",
   "metadata": {},
   "outputs": [
    {
     "name": "stdout",
     "output_type": "stream",
     "text": [
      "[-0.00079042 -0.00059765  0.00130703  0.00296652  0.00279968  0.00240219]\n"
     ]
    }
   ],
   "source": [
    "w  = np.zeros(len(x[0]))\n",
    "w, l4 = gradient_descent(x, y, w, 0.005, 1000) \n",
    "print(w)"
   ]
  },
  {
   "cell_type": "code",
   "execution_count": 16,
   "id": "4f855766",
   "metadata": {},
   "outputs": [
    {
     "name": "stdout",
     "output_type": "stream",
     "text": [
      "[-6.60642664e-05 -3.70877890e-05  3.62139340e-04  6.73205949e-04\n",
      "  6.49897620e-04  5.61811167e-04]\n"
     ]
    }
   ],
   "source": [
    "w  = np.zeros(len(x[0]))\n",
    "w, l5 = gradient_descent(x, y, w, 0.001, 1000) \n",
    "print(w)"
   ]
  },
  {
   "cell_type": "code",
   "execution_count": 17,
   "id": "6c62e4d7",
   "metadata": {},
   "outputs": [
    {
     "data": {
      "image/png": "[encoded data removed]",
      "text/plain": [
       "<Figure size 432x288 with 1 Axes>"
      ]
     },
     "metadata": {
      "needs_background": "light"
     },
     "output_type": "display_data"
    }
   ],
   "source": [
    "plt.plot(iterations, l1)\n",
    "plt.plot(iterations, l2)\n",
    "plt.plot(iterations, l3)\n",
    "plt.plot(iterations, l4)\n",
    "plt.plot(iterations, l5)\n",
    "plt.legend(['0.1','0.05','0.01','0.005','0.001'],title='Learning Rate')\n",
    "plt.xlabel('Iterations')\n",
    "plt.ylabel('Loss')\n",
    "plt.show()"
   ]
  },
  {
   "cell_type": "code",
   "execution_count": 18,
   "id": "76fbee36",
   "metadata": {},
   "outputs": [],
   "source": [
    "from sklearn.model_selection import train_test_split"
   ]
  },
  {
   "cell_type": "code",
   "execution_count": 19,
   "id": "a6816bc0",
   "metadata": {},
   "outputs": [],
   "source": [
    "x_train, x_test, y_train, y_test = train_test_split(x, y, test_size=0.3, random_state=101)"
   ]
  },
  {
   "cell_type": "code",
   "execution_count": 20,
   "id": "6f34f13a",
   "metadata": {},
   "outputs": [
    {
     "name": "stdout",
     "output_type": "stream",
     "text": [
      "[-0.04737066 -0.06199468  0.0254091   0.04083541 -0.01483128  0.01284657]\n"
     ]
    }
   ],
   "source": [
    "w  = np.zeros(len(x[0]))\n",
    "w, l = gradient_descent(x_train, y_train, w, 0.05, 2000) \n",
    "print(w)"
   ]
  },
  {
   "cell_type": "code",
   "execution_count": 21,
   "id": "5fd1236a",
   "metadata": {},
   "outputs": [],
   "source": [
    "def pred(x, w):\n",
    "    preds = []\n",
    "    for i in range(len(x)):\n",
    "        if (sigmoid(np.dot(x[i],w))>=0.5):\n",
    "            preds.append(1)\n",
    "        else:\n",
    "            preds.append(0)\n",
    "    return preds"
   ]
  },
  {
   "cell_type": "code",
   "execution_count": 31,
   "id": "5a611c4b",
   "metadata": {},
   "outputs": [],
   "source": [
    "y_preds = np.array(pred(x_test, w))"
   ]
  },
  {
   "cell_type": "code",
   "execution_count": 32,
   "id": "d728c986",
   "metadata": {},
   "outputs": [
    {
     "data": {
      "text/plain": [
       "0.5878136200716846"
      ]
     },
     "execution_count": 32,
     "metadata": {},
     "output_type": "execute_result"
    }
   ],
   "source": [
    "accuracy_score(y_test, y_preds)"
   ]
  },
  {
   "cell_type": "code",
   "execution_count": null,
   "id": "6599c1ea",
   "metadata": {},
   "outputs": [],
   "source": []
  }
 ],
 "metadata": {
  "kernelspec": {
   "display_name": "Python 3 (ipykernel)",
   "language": "python",
   "name": "python3"
  },
  "language_info": {
   "codemirror_mode": {
    "name": "ipython",
    "version": 3
   },
   "file_extension": ".py",
   "mimetype": "text/x-python",
   "name": "python",
   "nbconvert_exporter": "python",
   "pygments_lexer": "ipython3",
   "version": "3.9.12"
  }
 },
 "nbformat": 4,
 "nbformat_minor": 5
}
